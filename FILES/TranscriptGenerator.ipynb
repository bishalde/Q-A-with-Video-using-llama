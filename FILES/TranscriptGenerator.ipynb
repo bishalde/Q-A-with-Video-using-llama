{
 "cells": [
  {
   "cell_type": "code",
   "execution_count": null,
   "metadata": {},
   "outputs": [],
   "source": [
    "%pip install openai-whisper"
   ]
  },
  {
   "cell_type": "code",
   "execution_count": null,
   "metadata": {},
   "outputs": [],
   "source": [
    "import subprocess,whisper,os"
   ]
  },
  {
   "cell_type": "code",
   "execution_count": 2,
   "metadata": {},
   "outputs": [],
   "source": [
    "def download_video(video_url, save_path=\"video.mp4\"):\n",
    "    try:\n",
    "        command = [\"yt-dlp\", \"-f\", \"bestaudio\", \"-o\", save_path, video_url]\n",
    "        subprocess.run(command, check=True)\n",
    "        print(f\"Video downloaded to {save_path}\")\n",
    "\n",
    "    except subprocess.CalledProcessError as e:\n",
    "        print(f\"Error downloading video: {e}\")\n",
    "        return None"
   ]
  },
  {
   "cell_type": "code",
   "execution_count": null,
   "metadata": {},
   "outputs": [],
   "source": [
    "# Step 2: Generate transcript using Whisper\n",
    "def generate_transcript(video_path):\n",
    "    print(\"STARTED Generating transcript with timestamps\")\n",
    "    transcript_with_timestamps = os.path.join(\"Transcript\",\"transcript_with_timestamps.txt\")\n",
    "    transcript = os.path.join(\"Transcript\",\"transcript.txt\")\n",
    "    transcript = \"transcript.txt\"\n",
    "    try:\n",
    "       \n",
    "        model = whisper.load_model(\"base\")  \n",
    "        \n",
    "        result = model.transcribe(video_path)\n",
    "        \n",
    "        with open(transcript_with_timestamps, \"w\", encoding=\"utf-8\") as twts:\n",
    "            with open(transcript, \"w\", encoding=\"utf-8\") as t:\n",
    "                for segment in result[\"segments\"]:\n",
    "                    start = segment[\"start\"]\n",
    "                    end = segment[\"end\"]\n",
    "                    text = segment[\"text\"]\n",
    "                    # Write timestamp and text\n",
    "                    twts.write(f\"[{start:.2f}s - {end:.2f}s]: {text}\\n\")\n",
    "                    t.write(f\"{text}\\n\")\n",
    "        \n",
    "        print(f\"Transcript with timestamps saved to {transcript_with_timestamps}\")\n",
    "        print(f\"Transcript saved to {transcript}\")\n",
    "        \n",
    "    except Exception as e:\n",
    "        print(f\"Error generating transcript: {e}\")\n",
    "        return None"
   ]
  },
  {
   "cell_type": "code",
   "execution_count": null,
   "metadata": {},
   "outputs": [
    {
     "name": "stdout",
     "output_type": "stream",
     "text": [
      "[youtube] Extracting URL: https://www.youtube.com/watch?v=pTFZFxd4hOI\n",
      "[youtube] pTFZFxd4hOI: Downloading webpage\n",
      "[youtube] pTFZFxd4hOI: Downloading ios player API JSON\n",
      "[youtube] pTFZFxd4hOI: Downloading mweb player API JSON\n",
      "[youtube] pTFZFxd4hOI: Downloading m3u8 information\n",
      "[info] pTFZFxd4hOI: Downloading 1 format(s): 251-1\n",
      "[download] video.mp4 has already been downloaded\n",
      "[download] 100% of   46.31MiB\n",
      "Video downloaded to video.mp4\n",
      "STARTED Generating transcript with timestamps\n"
     ]
    },
    {
     "name": "stderr",
     "output_type": "stream",
     "text": [
      "/myNokiaProjects/TranscriptQnA/lib/python3.12/site-packages/whisper/__init__.py:150: FutureWarning: You are using `torch.load` with `weights_only=False` (the current default value), which uses the default pickle module implicitly. It is possible to construct malicious pickle data which will execute arbitrary code during unpickling (See https://github.com/pytorch/pytorch/blob/main/SECURITY.md#untrusted-models for more details). In a future release, the default value for `weights_only` will be flipped to `True`. This limits the functions that could be executed during unpickling. Arbitrary objects will no longer be allowed to be loaded via this mode unless they are explicitly allowlisted by the user via `torch.serialization.add_safe_globals`. We recommend you start setting `weights_only=True` for any use case where you don't have full control of the loaded file. Please open an issue on GitHub for any issues related to this experimental feature.\n",
      "  checkpoint = torch.load(fp, map_location=device)\n",
      "/myNokiaProjects/TranscriptQnA/lib/python3.12/site-packages/whisper/transcribe.py:126: UserWarning: FP16 is not supported on CPU; using FP32 instead\n",
      "  warnings.warn(\"FP16 is not supported on CPU; using FP32 instead\")\n"
     ]
    }
   ],
   "source": [
    "URL=\"https://www.youtube.com/watch?v=pTFZFxd4hOI\"\n",
    "download_video(URL)\n",
    "\n",
    "VIDEO_PATH=\"video.mp4\"\n",
    "generate_transcript(VIDEO_PATH)"
   ]
  }
 ],
 "metadata": {
  "kernelspec": {
   "display_name": "TranscriptQnA",
   "language": "python",
   "name": "python3"
  },
  "language_info": {
   "codemirror_mode": {
    "name": "ipython",
    "version": 3
   },
   "file_extension": ".py",
   "mimetype": "text/x-python",
   "name": "python",
   "nbconvert_exporter": "python",
   "pygments_lexer": "ipython3",
   "version": "3.12.3"
  }
 },
 "nbformat": 4,
 "nbformat_minor": 2
}
