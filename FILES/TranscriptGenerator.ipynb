{
 "cells": [
  {
   "cell_type": "code",
   "execution_count": null,
   "metadata": {},
   "outputs": [],
   "source": [
    "%pip install openai-whisper"
   ]
  },
  {
   "cell_type": "code",
   "execution_count": 2,
   "metadata": {},
   "outputs": [],
   "source": [
    "import subprocess,whisper,os"
   ]
  },
  {
   "cell_type": "code",
   "execution_count": 3,
   "metadata": {},
   "outputs": [],
   "source": [
    "def download_video(video_url):\n",
    "    save_path=\"Audio/video_audio.mp4\"\n",
    "    try:\n",
    "        command = [\"yt-dlp\", \"-f\", \"bestaudio\", \"-o\", save_path, video_url]\n",
    "        subprocess.run(command, check=True)\n",
    "        print(f\"Video downloaded to {save_path}\")\n",
    "\n",
    "    except subprocess.CalledProcessError as e:\n",
    "        print(f\"Error downloading video: {e}\")\n",
    "        return None"
   ]
  },
  {
   "cell_type": "code",
   "execution_count": 4,
   "metadata": {},
   "outputs": [],
   "source": [
    "# Step 2: Generate transcript using Whisper\n",
    "def generate_transcript(video_path):\n",
    "    print(\"STARTED Generating transcript with timestamps\")\n",
    "    \n",
    "    transcript_with_timestamps = \"Transcripts/transcript_with_timestamps.txt\"\n",
    "    transcript = \"Transcripts/transcript.txt\"\n",
    "    \n",
    "    os.makedirs(os.path.dirname(transcript_with_timestamps), exist_ok=True)\n",
    "    os.makedirs(os.path.dirname(transcript), exist_ok=True)\n",
    "    try:\n",
    "        # Load Whisper's base model\n",
    "        model = whisper.load_model(\"base\")  \n",
    "        \n",
    "        # Transcribe the video\n",
    "        result = model.transcribe(video_path)\n",
    "        \n",
    "        # Open the file for writing\n",
    "        with open(transcript_with_timestamps, \"w\", encoding=\"utf-8\") as twts:\n",
    "            with open(transcript, \"w\", encoding=\"utf-8\") as t:\n",
    "                for segment in result[\"segments\"]:\n",
    "                    start = segment[\"start\"]\n",
    "                    end = segment[\"end\"]\n",
    "                    text = segment[\"text\"]\n",
    "                    # Write timestamp and text\n",
    "                    twts.write(f\"[{start:.2f}s - {end:.2f}s]: {text}\\n\")\n",
    "                    t.write(f\"{text}\\n\")\n",
    "        \n",
    "        print(f\"Transcript with timestamps saved to {transcript_with_timestamps}\")\n",
    "        print(f\"Transcript saved to {transcript_with_timestamps}\")\n",
    "        \n",
    "    except Exception as e:\n",
    "        print(f\"Error generating transcript: {e}\")\n",
    "        return None"
   ]
  },
  {
   "cell_type": "code",
   "execution_count": 5,
   "metadata": {},
   "outputs": [
    {
     "name": "stdout",
     "output_type": "stream",
     "text": [
      "[generic] Extracting URL: https://nokia.sharepoint.com/:v:/r/sites/REGSAFe/Shared%20Documents/Engineers%20Day/2024Pi3%20Eng...9kZSI6InZpZXcifX0%3D\n",
      "[generic] Automated RCA of TC failures using ML and RBE: Downloading webpage\n",
      "[redirect] Following redirect to https://login.microsoftonline.com:443/5d471751-9675-428d-917b-70f44f9630b0/oauth2/authorize?client_id=00000003-0000-0ff1-ce00-000000000000&response_mode=form_post&response_type=code%20id_token&resource=00000003-0000-0ff1-ce00-000000000000&scope=openid&nonce=CE1663D68A90C0A54D77ECA74233B3C361717E99B9A1D4EC-B33F036D763D496A12922886B8DAFD855807B04BFF73BC9217A6C889B57801B4&redirect_uri=https%3A%2F%2Fnokia.sharepoint.com%2F_forms%2Fdefault.aspx&state=OD0w&claims=%7B%22id_token%22%3A%7B%22xms_cc%22%3A%7B%22values%22%3A%5B%22CP1%22%5D%7D%7D%7D&wsucxt=1&cobrandid=11bd8083-87e0-41b5-bb78-0bc43c8a8e8a&client-request-id=476065a1-a078-a000-8f51-6eafdc88a6af\n",
      "[generic] Extracting URL: https://login.microsoftonline.com:443/5d471751-9675-428d-917b-70f44f9630b0/oauth2/authorize?clien...00-8f51-6eafdc88a6af\n",
      "[generic] authorize?client_id=00000003-0000-0ff1-ce00-000000000000&response_mode=form_post&response_type=code id_token&resource=00000003-0000-0ff1-ce00-000000000000&scope=openid&nonce=CE1663D68A90C0A54D77ECA74233B3C361717E99B9A1D4EC-B33F036D763D496A12922886B8DAFD855807B04BFF73BC9217A6C889B57801B4&redirect_uri=https://nokia.sharepoint.com/_forms/default: Downloading webpage\n"
     ]
    },
    {
     "name": "stderr",
     "output_type": "stream",
     "text": [
      "WARNING: [generic] Falling back on generic information extractor\n"
     ]
    },
    {
     "name": "stdout",
     "output_type": "stream",
     "text": [
      "[generic] authorize?client_id=00000003-0000-0ff1-ce00-000000000000&response_mode=form_post&response_type=code id_token&resource=00000003-0000-0ff1-ce00-000000000000&scope=openid&nonce=CE1663D68A90C0A54D77ECA74233B3C361717E99B9A1D4EC-B33F036D763D496A12922886B8DAFD855807B04BFF73BC9217A6C889B57801B4&redirect_uri=https://nokia.sharepoint.com/_forms/default: Extracting information\n",
      "Error downloading video: Command '['yt-dlp', '-f', 'bestaudio', '-o', 'Audio/video_audio.mp4', 'https://nokia.sharepoint.com/:v:/r/sites/REGSAFe/Shared%20Documents/Engineers%20Day/2024Pi3%20Engineers%20day/Automated%20RCA%20of%20TC%20failures%20using%20ML%20and%20RBE.mp4?csf=1&web=1&e=M0ue0G&nav=eyJyZWZlcnJhbEluZm8iOnsicmVmZXJyYWxBcHAiOiJTdHJlYW1XZWJBcHAiLCJyZWZlcnJhbFZpZXciOiJTaGFyZURpYWxvZy1MaW5rIiwicmVmZXJyYWxBcHBQbGF0Zm9ybSI6IldlYiIsInJlZmVycmFsTW9kZSI6InZpZXcifX0%3D']' returned non-zero exit status 1.\n",
      "---------------- GENERATED TRANSCRIPTS ---------------\n"
     ]
    },
    {
     "name": "stderr",
     "output_type": "stream",
     "text": [
      "ERROR: Unsupported URL: https://login.microsoftonline.com:443/5d471751-9675-428d-917b-70f44f9630b0/oauth2/authorize?client_id=00000003-0000-0ff1-ce00-000000000000&response_mode=form_post&response_type=code%20id_token&resource=00000003-0000-0ff1-ce00-000000000000&scope=openid&nonce=CE1663D68A90C0A54D77ECA74233B3C361717E99B9A1D4EC-B33F036D763D496A12922886B8DAFD855807B04BFF73BC9217A6C889B57801B4&redirect_uri=https%3A%2F%2Fnokia.sharepoint.com%2F_forms%2Fdefault.aspx&state=OD0w&claims=%7B%22id_token%22%3A%7B%22xms_cc%22%3A%7B%22values%22%3A%5B%22CP1%22%5D%7D%7D%7D&wsucxt=1&cobrandid=11bd8083-87e0-41b5-bb78-0bc43c8a8e8a&client-request-id=476065a1-a078-a000-8f51-6eafdc88a6af\n"
     ]
    }
   ],
   "source": [
    "URL=\"https://www.youtube.com/watch?v=pTFZFxd4hOI\"\n",
    "download_video(URL)\n",
    "\n",
    "VIDEO_PATH=\"Audio/video_audio.mp4\"\n",
    "generate_transcript(VIDEO_PATH)\n",
    "\n",
    "\n",
    "print(\"---------------- GENERATED TRANSCRIPTS ---------------\")"
   ]
  }
 ],
 "metadata": {
  "kernelspec": {
   "display_name": "TranscriptQnA",
   "language": "python",
   "name": "python3"
  },
  "language_info": {
   "codemirror_mode": {
    "name": "ipython",
    "version": 3
   },
   "file_extension": ".py",
   "mimetype": "text/x-python",
   "name": "python",
   "nbconvert_exporter": "python",
   "pygments_lexer": "ipython3",
   "version": "3.12.3"
  }
 },
 "nbformat": 4,
 "nbformat_minor": 2
}
