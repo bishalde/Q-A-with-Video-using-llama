{
 "cells": [
  {
   "cell_type": "code",
   "execution_count": null,
   "metadata": {},
   "outputs": [
    {
     "name": "stdout",
     "output_type": "stream",
     "text": [
      "Found existing installation: pytube 15.0.0\n",
      "Uninstalling pytube-15.0.0:\n",
      "  Successfully uninstalled pytube-15.0.0\n",
      "Found existing installation: openai-whisper 20240930\n",
      "Uninstalling openai-whisper-20240930:\n",
      "  Successfully uninstalled openai-whisper-20240930\n",
      "Found existing installation: langchain 0.3.7\n",
      "Uninstalling langchain-0.3.7:\n",
      "  Successfully uninstalled langchain-0.3.7\n",
      "Found existing installation: faiss-cpu 1.9.0\n",
      "Uninstalling faiss-cpu-1.9.0:\n",
      "  Successfully uninstalled faiss-cpu-1.9.0\n",
      "Found existing installation: ollama 0.3.3\n",
      "Uninstalling ollama-0.3.3:\n",
      "  Successfully uninstalled ollama-0.3.3\n",
      "Found existing installation: langchain-community 0.3.7\n",
      "Uninstalling langchain-community-0.3.7:\n",
      "  Successfully uninstalled langchain-community-0.3.7\n",
      "Found existing installation: sentence-transformers 3.3.1\n",
      "Uninstalling sentence-transformers-3.3.1:\n",
      "  Successfully uninstalled sentence-transformers-3.3.1\n",
      "Note: you may need to restart the kernel to use updated packages.\n"
     ]
    }
   ],
   "source": []
  }
 ],
 "metadata": {
  "kernelspec": {
   "display_name": "TranscriptQnA",
   "language": "python",
   "name": "python3"
  },
  "language_info": {
   "codemirror_mode": {
    "name": "ipython",
    "version": 3
   },
   "file_extension": ".py",
   "mimetype": "text/x-python",
   "name": "python",
   "nbconvert_exporter": "python",
   "pygments_lexer": "ipython3",
   "version": "3.12.3"
  }
 },
 "nbformat": 4,
 "nbformat_minor": 2
}
